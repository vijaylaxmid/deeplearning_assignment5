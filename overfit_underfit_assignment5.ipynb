{
  "nbformat": 4,
  "nbformat_minor": 0,
  "metadata": {
    "colab": {
      "name": "overfit_underfit_assignment5.ipynb",
      "provenance": []
    },
    "kernelspec": {
      "name": "python3",
      "display_name": "Python 3"
    },
    "accelerator": "GPU"
  },
  "cells": [
    {
      "cell_type": "markdown",
      "metadata": {
        "id": "NkL3hS0DLdbY",
        "colab_type": "text"
      },
      "source": [
        "Import Libraries"
      ]
    },
    {
      "cell_type": "code",
      "metadata": {
        "id": "QLNG_pgdLfgr",
        "colab_type": "code",
        "colab": {}
      },
      "source": [
        "import tensorflow as tf\n",
        "from tensorflow.keras import layers\n",
        "from tensorflow.keras import regularizers\n",
        "\n",
        "import tensorflow_docs as tfdocs\n",
        "import tensorflow_docs.modeling\n",
        "from  IPython import display\n",
        "from matplotlib import pyplot as plt\n",
        "\n",
        "import numpy as np\n",
        "\n",
        "import pathlib\n",
        "import shutil\n",
        "import tempfile\n",
        "\n",
        "logdir = pathlib.Path(tempfile.mkdtemp())/\"tensorboard_logs\"\n",
        "shutil.rmtree(logdir, ignore_errors=True)"
      ],
      "execution_count": 0,
      "outputs": []
    },
    {
      "cell_type": "code",
      "metadata": {
        "id": "suM2OtuXMx6x",
        "colab_type": "code",
        "colab": {
          "base_uri": "https://localhost:8080/",
          "height": 309
        },
        "outputId": "68e65659-4a51-452d-c8b1-8fb078a4e7ab"
      },
      "source": [
        "pip install git+https://github.com/tensorflow/docs"
      ],
      "execution_count": 9,
      "outputs": [
        {
          "output_type": "stream",
          "text": [
            "Collecting git+https://github.com/tensorflow/docs\n",
            "  Cloning https://github.com/tensorflow/docs to /tmp/pip-req-build-ahammq0c\n",
            "  Running command git clone -q https://github.com/tensorflow/docs /tmp/pip-req-build-ahammq0c\n",
            "Requirement already satisfied: astor in /usr/local/lib/python3.6/dist-packages (from tensorflow-docs==0.0.0) (0.8.1)\n",
            "Requirement already satisfied: absl-py in /usr/local/lib/python3.6/dist-packages (from tensorflow-docs==0.0.0) (0.9.0)\n",
            "Requirement already satisfied: six in /usr/local/lib/python3.6/dist-packages (from tensorflow-docs==0.0.0) (1.12.0)\n",
            "Collecting pathlib2\n",
            "  Downloading https://files.pythonhosted.org/packages/e9/45/9c82d3666af4ef9f221cbb954e1d77ddbb513faf552aea6df5f37f1a4859/pathlib2-2.3.5-py2.py3-none-any.whl\n",
            "Requirement already satisfied: pyyaml in /usr/local/lib/python3.6/dist-packages (from tensorflow-docs==0.0.0) (3.13)\n",
            "Building wheels for collected packages: tensorflow-docs\n",
            "  Building wheel for tensorflow-docs (setup.py) ... \u001b[?25l\u001b[?25hdone\n",
            "  Created wheel for tensorflow-docs: filename=tensorflow_docs-0.0.0-cp36-none-any.whl size=82320 sha256=e687eb5f5f4aff02d24548e3f8fa88dc6b2a9f8c7658bc93def592f4eebf7577\n",
            "  Stored in directory: /tmp/pip-ephem-wheel-cache-qpfq2us0/wheels/eb/1b/35/fce87697be00d2fc63e0b4b395b0d9c7e391a10e98d9a0d97f\n",
            "Successfully built tensorflow-docs\n",
            "Installing collected packages: pathlib2, tensorflow-docs\n",
            "Successfully installed pathlib2-2.3.5 tensorflow-docs-0.0.0\n"
          ],
          "name": "stdout"
        }
      ]
    },
    {
      "cell_type": "code",
      "metadata": {
        "id": "dW9VRPvWQnjj",
        "colab_type": "code",
        "colab": {}
      },
      "source": [
        "import tensorflow_docs.plots"
      ],
      "execution_count": 0,
      "outputs": []
    },
    {
      "cell_type": "markdown",
      "metadata": {
        "id": "Q1VqXhDSMHTT",
        "colab_type": "text"
      },
      "source": [
        "Download Higgs Dataset"
      ]
    },
    {
      "cell_type": "code",
      "metadata": {
        "id": "ZiXg9Qu_MI7e",
        "colab_type": "code",
        "colab": {
          "base_uri": "https://localhost:8080/",
          "height": 51
        },
        "outputId": "293dce18-3de3-4855-a22c-56fdcbdec299"
      },
      "source": [
        "gz = tf.keras.utils.get_file('HIGGS.csv.gz', 'http://mlphysics.ics.uci.edu/data/higgs/HIGGS.csv.gz')"
      ],
      "execution_count": 11,
      "outputs": [
        {
          "output_type": "stream",
          "text": [
            "Downloading data from http://mlphysics.ics.uci.edu/data/higgs/HIGGS.csv.gz\n",
            "2816409600/2816407858 [==============================] - 128s 0us/step\n"
          ],
          "name": "stdout"
        }
      ]
    },
    {
      "cell_type": "code",
      "metadata": {
        "id": "wcPDPvb4M4eZ",
        "colab_type": "code",
        "colab": {}
      },
      "source": [
        "FEATURES = 28"
      ],
      "execution_count": 0,
      "outputs": []
    },
    {
      "cell_type": "code",
      "metadata": {
        "id": "K2sm24PtNMXZ",
        "colab_type": "code",
        "colab": {}
      },
      "source": [
        "ds = tf.data.experimental.CsvDataset(gz,[float(),]*(FEATURES+1), compression_type=\"GZIP\")"
      ],
      "execution_count": 0,
      "outputs": []
    },
    {
      "cell_type": "code",
      "metadata": {
        "id": "aaXM8YfgNPVX",
        "colab_type": "code",
        "colab": {}
      },
      "source": [
        "def pack_row(*row):\n",
        "  label = row[0]\n",
        "  features = tf.stack(row[1:],1)\n",
        "  return features, label"
      ],
      "execution_count": 0,
      "outputs": []
    },
    {
      "cell_type": "markdown",
      "metadata": {
        "id": "dptFlCkRNTgD",
        "colab_type": "text"
      },
      "source": [
        "instead of repacking each row individually make a new Dataset that takes batches of 10000-examples, applies the pack_row function to each batch, and then splits the batches back up into individual records:"
      ]
    },
    {
      "cell_type": "code",
      "metadata": {
        "id": "C0bsUPqvNUPF",
        "colab_type": "code",
        "colab": {}
      },
      "source": [
        "packed_ds = ds.batch(10000).map(pack_row).unbatch()"
      ],
      "execution_count": 0,
      "outputs": []
    },
    {
      "cell_type": "code",
      "metadata": {
        "id": "gFVU8SNPNYOW",
        "colab_type": "code",
        "colab": {
          "base_uri": "https://localhost:8080/",
          "height": 367
        },
        "outputId": "51e6b51d-a90e-4b48-82b1-6baa2fcacd1c"
      },
      "source": [
        "for features,label in packed_ds.batch(1000).take(1):\n",
        "  print(features[0])\n",
        "  plt.hist(features.numpy().flatten(), bins = 101)"
      ],
      "execution_count": 16,
      "outputs": [
        {
          "output_type": "stream",
          "text": [
            "tf.Tensor(\n",
            "[ 0.8692932  -0.6350818   0.22569026  0.32747006 -0.6899932   0.75420225\n",
            " -0.24857314 -1.0920639   0.          1.3749921  -0.6536742   0.9303491\n",
            "  1.1074361   1.1389043  -1.5781983  -1.0469854   0.          0.65792954\n",
            " -0.01045457 -0.04576717  3.1019614   1.35376     0.9795631   0.97807616\n",
            "  0.92000484  0.72165745  0.98875093  0.87667835], shape=(28,), dtype=float32)\n"
          ],
          "name": "stdout"
        },
        {
          "output_type": "display_data",
          "data": {
            "image/png": "[encoded data removed]",
            "text/plain": [
              "<Figure size 432x288 with 1 Axes>"
            ]
          },
          "metadata": {
            "tags": [],
            "needs_background": "light"
          }
        }
      ]
    },
    {
      "cell_type": "code",
      "metadata": {
        "id": "p_Wxe9GxNciv",
        "colab_type": "code",
        "colab": {}
      },
      "source": [
        "N_VALIDATION = int(1e3)\n",
        "N_TRAIN = int(1e4)\n",
        "BUFFER_SIZE = int(1e4)\n",
        "BATCH_SIZE = 500\n",
        "STEPS_PER_EPOCH = N_TRAIN//BATCH_SIZE"
      ],
      "execution_count": 0,
      "outputs": []
    },
    {
      "cell_type": "code",
      "metadata": {
        "id": "72qFglpbNf0G",
        "colab_type": "code",
        "colab": {}
      },
      "source": [
        "validate_ds = packed_ds.take(N_VALIDATION).cache()\n",
        "train_ds = packed_ds.skip(N_VALIDATION).take(N_TRAIN).cache()"
      ],
      "execution_count": 0,
      "outputs": []
    },
    {
      "cell_type": "code",
      "metadata": {
        "id": "-10_5WfiNiTb",
        "colab_type": "code",
        "colab": {
          "base_uri": "https://localhost:8080/",
          "height": 34
        },
        "outputId": "47253937-cb5b-4bc8-91c6-1770d5e4bcd2"
      },
      "source": [
        "train_ds"
      ],
      "execution_count": 19,
      "outputs": [
        {
          "output_type": "execute_result",
          "data": {
            "text/plain": [
              "<CacheDataset shapes: ((28,), ()), types: (tf.float32, tf.float32)>"
            ]
          },
          "metadata": {
            "tags": []
          },
          "execution_count": 19
        }
      ]
    },
    {
      "cell_type": "code",
      "metadata": {
        "id": "IIDedigANkv_",
        "colab_type": "code",
        "colab": {}
      },
      "source": [
        "validate_ds = validate_ds.batch(BATCH_SIZE)\n",
        "train_ds = train_ds.shuffle(BUFFER_SIZE).repeat().batch(BATCH_SIZE)"
      ],
      "execution_count": 0,
      "outputs": []
    },
    {
      "cell_type": "markdown",
      "metadata": {
        "id": "PJmXJCC6NnyD",
        "colab_type": "text"
      },
      "source": [
        "Demonstrate Overfitting"
      ]
    },
    {
      "cell_type": "code",
      "metadata": {
        "id": "Qj-qeNNwNqK2",
        "colab_type": "code",
        "colab": {}
      },
      "source": [
        "lr_schedule = tf.keras.optimizers.schedules.InverseTimeDecay(\n",
        "  0.001,\n",
        "  decay_steps=STEPS_PER_EPOCH*1000,\n",
        "  decay_rate=1,\n",
        "  staircase=False)\n",
        "\n",
        "def get_optimizer():\n",
        "  return tf.keras.optimizers.Adam(lr_schedule)"
      ],
      "execution_count": 0,
      "outputs": []
    },
    {
      "cell_type": "code",
      "metadata": {
        "id": "JLS2Gq4ENspl",
        "colab_type": "code",
        "colab": {
          "base_uri": "https://localhost:8080/",
          "height": 388
        },
        "outputId": "d70112bb-5436-45e9-bb19-928ffda5372b"
      },
      "source": [
        "step = np.linspace(0,100000)\n",
        "lr = lr_schedule(step)\n",
        "plt.figure(figsize = (8,6))\n",
        "plt.plot(step/STEPS_PER_EPOCH, lr)\n",
        "plt.ylim([0,max(plt.ylim())])\n",
        "plt.xlabel('Epoch')\n",
        "_ = plt.ylabel('Learning Rate')"
      ],
      "execution_count": 22,
      "outputs": [
        {
          "output_type": "display_data",
          "data": {
            "image/png": "[encoded data removed]",
            "text/plain": [
              "<Figure size 576x432 with 1 Axes>"
            ]
          },
          "metadata": {
            "tags": [],
            "needs_background": "light"
          }
        }
      ]
    },
    {
      "cell_type": "code",
      "metadata": {
        "id": "RJXsoAJ9Nwc6",
        "colab_type": "code",
        "colab": {}
      },
      "source": [
        "def get_callbacks(name):\n",
        "  return [\n",
        "    tfdocs.modeling.EpochDots(),\n",
        "    tf.keras.callbacks.EarlyStopping(monitor='val_binary_crossentropy', patience=200),\n",
        "    tf.keras.callbacks.TensorBoard(logdir/name),\n",
        "  ]"
      ],
      "execution_count": 0,
      "outputs": []
    },
    {
      "cell_type": "code",
      "metadata": {
        "id": "V_QZld-WNxwt",
        "colab_type": "code",
        "colab": {}
      },
      "source": [
        "def compile_and_fit(model, name, optimizer=None, max_epochs=10000):\n",
        "  if optimizer is None:\n",
        "    optimizer = get_optimizer()\n",
        "  model.compile(optimizer=optimizer,\n",
        "                loss=tf.keras.losses.BinaryCrossentropy(from_logits=True),\n",
        "                metrics=[\n",
        "                  tf.keras.losses.BinaryCrossentropy(\n",
        "                      from_logits=True, name='binary_crossentropy'),\n",
        "                  'accuracy'])\n",
        "\n",
        "  model.summary()\n",
        "\n",
        "  history = model.fit(\n",
        "    train_ds,\n",
        "    steps_per_epoch = STEPS_PER_EPOCH,\n",
        "    epochs=max_epochs,\n",
        "    validation_data=validate_ds,\n",
        "    callbacks=get_callbacks(name),\n",
        "    verbose=0)\n",
        "  return history"
      ],
      "execution_count": 0,
      "outputs": []
    },
    {
      "cell_type": "markdown",
      "metadata": {
        "id": "LlrmUPcTOAcy",
        "colab_type": "text"
      },
      "source": [
        "Tiny model"
      ]
    },
    {
      "cell_type": "code",
      "metadata": {
        "id": "ponolDLiN2Le",
        "colab_type": "code",
        "colab": {}
      },
      "source": [
        "tiny_model = tf.keras.Sequential([\n",
        "    layers.Dense(16, activation='elu', input_shape=(FEATURES,)),\n",
        "    layers.Dense(1)\n",
        "])"
      ],
      "execution_count": 0,
      "outputs": []
    },
    {
      "cell_type": "code",
      "metadata": {
        "id": "AEEYzMQiN4yM",
        "colab_type": "code",
        "colab": {}
      },
      "source": [
        "size_histories = {}"
      ],
      "execution_count": 0,
      "outputs": []
    },
    {
      "cell_type": "code",
      "metadata": {
        "id": "0YDn4T0EN5nA",
        "colab_type": "code",
        "colab": {
          "base_uri": "https://localhost:8080/",
          "height": 646
        },
        "outputId": "689ccee2-341f-4c6d-861f-1c10548a9cd1"
      },
      "source": [
        "size_histories['Tiny'] = compile_and_fit(tiny_model, 'sizes/Tiny')"
      ],
      "execution_count": 27,
      "outputs": [
        {
          "output_type": "stream",
          "text": [
            "Model: \"sequential\"\n",
            "_________________________________________________________________\n",
            "Layer (type)                 Output Shape              Param #   \n",
            "=================================================================\n",
            "dense (Dense)                (None, 16)                464       \n",
            "_________________________________________________________________\n",
            "dense_1 (Dense)              (None, 1)                 17        \n",
            "=================================================================\n",
            "Total params: 481\n",
            "Trainable params: 481\n",
            "Non-trainable params: 0\n",
            "_________________________________________________________________\n",
            "\n",
            "Epoch: 0, accuracy:0.4831,  binary_crossentropy:0.7604,  loss:0.7604,  val_accuracy:0.4480,  val_binary_crossentropy:0.7430,  val_loss:0.7430,  \n",
            "....................................................................................................\n",
            "Epoch: 100, accuracy:0.5938,  binary_crossentropy:0.6266,  loss:0.6266,  val_accuracy:0.5760,  val_binary_crossentropy:0.6301,  val_loss:0.6301,  \n",
            "....................................................................................................\n",
            "Epoch: 200, accuracy:0.6209,  binary_crossentropy:0.6133,  loss:0.6133,  val_accuracy:0.6050,  val_binary_crossentropy:0.6157,  val_loss:0.6157,  \n",
            "....................................................................................................\n",
            "Epoch: 300, accuracy:0.6389,  binary_crossentropy:0.6047,  loss:0.6047,  val_accuracy:0.6310,  val_binary_crossentropy:0.6080,  val_loss:0.6080,  \n",
            "....................................................................................................\n",
            "Epoch: 400, accuracy:0.6485,  binary_crossentropy:0.5977,  loss:0.5977,  val_accuracy:0.6320,  val_binary_crossentropy:0.6014,  val_loss:0.6014,  \n",
            "....................................................................................................\n",
            "Epoch: 500, accuracy:0.6571,  binary_crossentropy:0.5920,  loss:0.5920,  val_accuracy:0.6590,  val_binary_crossentropy:0.5932,  val_loss:0.5932,  \n",
            "....................................................................................................\n",
            "Epoch: 600, accuracy:0.6613,  binary_crossentropy:0.5874,  loss:0.5874,  val_accuracy:0.6390,  val_binary_crossentropy:0.5910,  val_loss:0.5910,  \n",
            "....................................................................................................\n",
            "Epoch: 700, accuracy:0.6662,  binary_crossentropy:0.5841,  loss:0.5841,  val_accuracy:0.6610,  val_binary_crossentropy:0.5872,  val_loss:0.5872,  \n",
            "....................................................................................................\n",
            "Epoch: 800, accuracy:0.6728,  binary_crossentropy:0.5806,  loss:0.5806,  val_accuracy:0.6540,  val_binary_crossentropy:0.5887,  val_loss:0.5887,  \n",
            "....................................................................................................\n",
            "Epoch: 900, accuracy:0.6762,  binary_crossentropy:0.5778,  loss:0.5778,  val_accuracy:0.6630,  val_binary_crossentropy:0.5875,  val_loss:0.5875,  \n",
            "....................................................................................................\n",
            "Epoch: 1000, accuracy:0.6784,  binary_crossentropy:0.5762,  loss:0.5762,  val_accuracy:0.6580,  val_binary_crossentropy:0.5863,  val_loss:0.5863,  \n",
            "....................................................................................................\n",
            "Epoch: 1100, accuracy:0.6777,  binary_crossentropy:0.5738,  loss:0.5738,  val_accuracy:0.6570,  val_binary_crossentropy:0.5866,  val_loss:0.5866,  \n",
            "..................................................."
          ],
          "name": "stdout"
        }
      ]
    },
    {
      "cell_type": "code",
      "metadata": {
        "id": "SPPE8ziQN8DW",
        "colab_type": "code",
        "colab": {
          "base_uri": "https://localhost:8080/",
          "height": 300
        },
        "outputId": "57c129b1-05cc-4c90-9020-b53b8a15e9ef"
      },
      "source": [
        "plotter = tfdocs.plots.HistoryPlotter(metric = 'binary_crossentropy', smoothing_std=10)\n",
        "plotter.plot(size_histories)\n",
        "plt.ylim([0.5, 0.7])"
      ],
      "execution_count": 30,
      "outputs": [
        {
          "output_type": "execute_result",
          "data": {
            "text/plain": [
              "(0.5, 0.7)"
            ]
          },
          "metadata": {
            "tags": []
          },
          "execution_count": 30
        },
        {
          "output_type": "display_data",
          "data": {
            "image/png": "[encoded data removed]",
            "text/plain": [
              "<Figure size 432x288 with 1 Axes>"
            ]
          },
          "metadata": {
            "tags": [],
            "needs_background": "light"
          }
        }
      ]
    },
    {
      "cell_type": "markdown",
      "metadata": {
        "id": "yitdERGaOCik",
        "colab_type": "text"
      },
      "source": [
        "Small Model"
      ]
    },
    {
      "cell_type": "code",
      "metadata": {
        "id": "EFFTengzODl4",
        "colab_type": "code",
        "colab": {}
      },
      "source": [
        "small_model = tf.keras.Sequential([\n",
        "    # `input_shape` is only required here so that `.summary` works.\n",
        "    layers.Dense(16, activation='elu', input_shape=(FEATURES,)),\n",
        "    layers.Dense(16, activation='elu'),\n",
        "    layers.Dense(1)\n",
        "])"
      ],
      "execution_count": 0,
      "outputs": []
    },
    {
      "cell_type": "code",
      "metadata": {
        "id": "kQg6w2xzOFs1",
        "colab_type": "code",
        "colab": {
          "base_uri": "https://localhost:8080/",
          "height": 476
        },
        "outputId": "5b83695d-2402-4e81-b103-60b7f88fe27e"
      },
      "source": [
        "size_histories['Small'] = compile_and_fit(small_model, 'sizes/Small')"
      ],
      "execution_count": 32,
      "outputs": [
        {
          "output_type": "stream",
          "text": [
            "Model: \"sequential_1\"\n",
            "_________________________________________________________________\n",
            "Layer (type)                 Output Shape              Param #   \n",
            "=================================================================\n",
            "dense_2 (Dense)              (None, 16)                464       \n",
            "_________________________________________________________________\n",
            "dense_3 (Dense)              (None, 16)                272       \n",
            "_________________________________________________________________\n",
            "dense_4 (Dense)              (None, 1)                 17        \n",
            "=================================================================\n",
            "Total params: 753\n",
            "Trainable params: 753\n",
            "Non-trainable params: 0\n",
            "_________________________________________________________________\n",
            "\n",
            "Epoch: 0, accuracy:0.4980,  binary_crossentropy:0.7256,  loss:0.7256,  val_accuracy:0.4880,  val_binary_crossentropy:0.7085,  val_loss:0.7085,  \n",
            "....................................................................................................\n",
            "Epoch: 100, accuracy:0.6496,  binary_crossentropy:0.5980,  loss:0.5980,  val_accuracy:0.6330,  val_binary_crossentropy:0.5948,  val_loss:0.5948,  \n",
            "....................................................................................................\n",
            "Epoch: 200, accuracy:0.6740,  binary_crossentropy:0.5814,  loss:0.5814,  val_accuracy:0.6710,  val_binary_crossentropy:0.5869,  val_loss:0.5869,  \n",
            "....................................................................................................\n",
            "Epoch: 300, accuracy:0.6876,  binary_crossentropy:0.5737,  loss:0.5737,  val_accuracy:0.6640,  val_binary_crossentropy:0.5846,  val_loss:0.5846,  \n",
            "....................................................................................................\n",
            "Epoch: 400, accuracy:0.6910,  binary_crossentropy:0.5676,  loss:0.5676,  val_accuracy:0.6670,  val_binary_crossentropy:0.5849,  val_loss:0.5849,  \n",
            "....................................................................................................\n",
            "Epoch: 500, accuracy:0.6930,  binary_crossentropy:0.5637,  loss:0.5637,  val_accuracy:0.6690,  val_binary_crossentropy:0.5852,  val_loss:0.5852,  \n",
            "..........."
          ],
          "name": "stdout"
        }
      ]
    },
    {
      "cell_type": "markdown",
      "metadata": {
        "id": "D4UVDC3_OHb-",
        "colab_type": "text"
      },
      "source": [
        "Meduim Model"
      ]
    },
    {
      "cell_type": "code",
      "metadata": {
        "id": "DlM7QtN5OIje",
        "colab_type": "code",
        "colab": {}
      },
      "source": [
        "medium_model = tf.keras.Sequential([\n",
        "    layers.Dense(64, activation='elu', input_shape=(FEATURES,)),\n",
        "    layers.Dense(64, activation='elu'),\n",
        "    layers.Dense(64, activation='elu'),\n",
        "    layers.Dense(1)\n",
        "])"
      ],
      "execution_count": 0,
      "outputs": []
    },
    {
      "cell_type": "code",
      "metadata": {
        "id": "IPWI8jPZOMyh",
        "colab_type": "code",
        "colab": {
          "base_uri": "https://localhost:8080/",
          "height": 408
        },
        "outputId": "d71e8314-c74e-48c1-e6c4-9bf420a4821b"
      },
      "source": [
        "size_histories['Medium']  = compile_and_fit(medium_model, \"sizes/Medium\")"
      ],
      "execution_count": 34,
      "outputs": [
        {
          "output_type": "stream",
          "text": [
            "Model: \"sequential_2\"\n",
            "_________________________________________________________________\n",
            "Layer (type)                 Output Shape              Param #   \n",
            "=================================================================\n",
            "dense_5 (Dense)              (None, 64)                1856      \n",
            "_________________________________________________________________\n",
            "dense_6 (Dense)              (None, 64)                4160      \n",
            "_________________________________________________________________\n",
            "dense_7 (Dense)              (None, 64)                4160      \n",
            "_________________________________________________________________\n",
            "dense_8 (Dense)              (None, 1)                 65        \n",
            "=================================================================\n",
            "Total params: 10,241\n",
            "Trainable params: 10,241\n",
            "Non-trainable params: 0\n",
            "_________________________________________________________________\n",
            "\n",
            "Epoch: 0, accuracy:0.4876,  binary_crossentropy:0.6955,  loss:0.6955,  val_accuracy:0.5080,  val_binary_crossentropy:0.6712,  val_loss:0.6712,  \n",
            "....................................................................................................\n",
            "Epoch: 100, accuracy:0.7123,  binary_crossentropy:0.5297,  loss:0.5297,  val_accuracy:0.6640,  val_binary_crossentropy:0.5994,  val_loss:0.5994,  \n",
            "....................................................................................................\n",
            "Epoch: 200, accuracy:0.7848,  binary_crossentropy:0.4314,  loss:0.4314,  val_accuracy:0.6600,  val_binary_crossentropy:0.6863,  val_loss:0.6863,  \n",
            "...................................................."
          ],
          "name": "stdout"
        }
      ]
    },
    {
      "cell_type": "markdown",
      "metadata": {
        "id": "v5mnmGToONS1",
        "colab_type": "text"
      },
      "source": [
        "Large Model"
      ]
    },
    {
      "cell_type": "code",
      "metadata": {
        "id": "mBy3JhspOOH_",
        "colab_type": "code",
        "colab": {}
      },
      "source": [
        "large_model = tf.keras.Sequential([\n",
        "    layers.Dense(512, activation='elu', input_shape=(FEATURES,)),\n",
        "    layers.Dense(512, activation='elu'),\n",
        "    layers.Dense(512, activation='elu'),\n",
        "    layers.Dense(512, activation='elu'),\n",
        "    layers.Dense(1)\n",
        "])"
      ],
      "execution_count": 0,
      "outputs": []
    },
    {
      "cell_type": "code",
      "metadata": {
        "id": "cSCCZsR7OQjF",
        "colab_type": "code",
        "colab": {
          "base_uri": "https://localhost:8080/",
          "height": 442
        },
        "outputId": "ee96d313-90a1-4987-d659-a8d0c4bece5d"
      },
      "source": [
        "size_histories['large'] = compile_and_fit(large_model, \"sizes/large\")"
      ],
      "execution_count": 36,
      "outputs": [
        {
          "output_type": "stream",
          "text": [
            "Model: \"sequential_3\"\n",
            "_________________________________________________________________\n",
            "Layer (type)                 Output Shape              Param #   \n",
            "=================================================================\n",
            "dense_9 (Dense)              (None, 512)               14848     \n",
            "_________________________________________________________________\n",
            "dense_10 (Dense)             (None, 512)               262656    \n",
            "_________________________________________________________________\n",
            "dense_11 (Dense)             (None, 512)               262656    \n",
            "_________________________________________________________________\n",
            "dense_12 (Dense)             (None, 512)               262656    \n",
            "_________________________________________________________________\n",
            "dense_13 (Dense)             (None, 1)                 513       \n",
            "=================================================================\n",
            "Total params: 803,329\n",
            "Trainable params: 803,329\n",
            "Non-trainable params: 0\n",
            "_________________________________________________________________\n",
            "\n",
            "Epoch: 0, accuracy:0.5055,  binary_crossentropy:0.7903,  loss:0.7903,  val_accuracy:0.5480,  val_binary_crossentropy:0.6703,  val_loss:0.6703,  \n",
            "....................................................................................................\n",
            "Epoch: 100, accuracy:1.0000,  binary_crossentropy:0.0022,  loss:0.0022,  val_accuracy:0.6720,  val_binary_crossentropy:1.7565,  val_loss:1.7565,  \n",
            "....................................................................................................\n",
            "Epoch: 200, accuracy:1.0000,  binary_crossentropy:0.0001,  loss:0.0001,  val_accuracy:0.6740,  val_binary_crossentropy:2.3825,  val_loss:2.3825,  \n",
            "...................."
          ],
          "name": "stdout"
        }
      ]
    },
    {
      "cell_type": "markdown",
      "metadata": {
        "id": "bn7O7A0nOSZD",
        "colab_type": "text"
      },
      "source": [
        "Plot the training and validation losses"
      ]
    },
    {
      "cell_type": "code",
      "metadata": {
        "id": "T604zdoIOUVm",
        "colab_type": "code",
        "colab": {
          "base_uri": "https://localhost:8080/",
          "height": 304
        },
        "outputId": "5bf839b2-2414-47ed-de26-8ffc306b38c5"
      },
      "source": [
        "plotter.plot(size_histories)\n",
        "a = plt.xscale('log')\n",
        "plt.xlim([5, max(plt.xlim())])\n",
        "plt.ylim([0.5, 0.7])\n",
        "plt.xlabel(\"Epochs [Log Scale]\")"
      ],
      "execution_count": 37,
      "outputs": [
        {
          "output_type": "execute_result",
          "data": {
            "text/plain": [
              "Text(0.5, 0, 'Epochs [Log Scale]')"
            ]
          },
          "metadata": {
            "tags": []
          },
          "execution_count": 37
        },
        {
          "output_type": "display_data",
          "data": {
            "image/png": "[encoded data removed]",
            "text/plain": [
              "<Figure size 432x288 with 1 Axes>"
            ]
          },
          "metadata": {
            "tags": [],
            "needs_background": "light"
          }
        }
      ]
    },
    {
      "cell_type": "markdown",
      "metadata": {
        "id": "-_IdY6_mPyfR",
        "colab_type": "text"
      },
      "source": [
        "View in TensorBoard"
      ]
    },
    {
      "cell_type": "code",
      "metadata": {
        "id": "H1VwTlPKP3mx",
        "colab_type": "code",
        "colab": {
          "base_uri": "https://localhost:8080/",
          "height": 821
        },
        "outputId": "ddaaa18d-942e-4f91-fa82-834746939c3a"
      },
      "source": [
        "display.IFrame(\n",
        "    src=\"https://tensorboard.dev/experiment/vW7jmmF9TmKmy3rbheMQpw/#scalars&_smoothingWeight=0.97\",\n",
        "    width=\"100%\", height=\"800px\")"
      ],
      "execution_count": 40,
      "outputs": [
        {
          "output_type": "execute_result",
          "data": {
            "text/html": [
              "\n",
              "        <iframe\n",
              "            width=\"100%\"\n",
              "            height=\"800px\"\n",
              "            src=\"https://tensorboard.dev/experiment/vW7jmmF9TmKmy3rbheMQpw/#scalars&_smoothingWeight=0.97\"\n",
              "            frameborder=\"0\"\n",
              "            allowfullscreen\n",
              "        ></iframe>\n",
              "        "
            ],
            "text/plain": [
              "<IPython.lib.display.IFrame at 0x7f838ec40710>"
            ]
          },
          "metadata": {
            "tags": []
          },
          "execution_count": 40
        }
      ]
    },
    {
      "cell_type": "markdown",
      "metadata": {
        "id": "z81q-wWAP8vE",
        "colab_type": "text"
      },
      "source": [
        "Strategies to prevent overfitting"
      ]
    },
    {
      "cell_type": "code",
      "metadata": {
        "id": "W-AEXDybP9Jz",
        "colab_type": "code",
        "colab": {
          "base_uri": "https://localhost:8080/",
          "height": 34
        },
        "outputId": "3a6b3fb8-0f2b-4396-c21e-0ee676772715"
      },
      "source": [
        "shutil.rmtree(logdir/'regularizers/Tiny', ignore_errors=True)\n",
        "shutil.copytree(logdir/'sizes/Tiny', logdir/'regularizers/Tiny')"
      ],
      "execution_count": 41,
      "outputs": [
        {
          "output_type": "execute_result",
          "data": {
            "text/plain": [
              "PosixPath('/tmp/tmpgekdzm1r/tensorboard_logs/regularizers/Tiny')"
            ]
          },
          "metadata": {
            "tags": []
          },
          "execution_count": 41
        }
      ]
    },
    {
      "cell_type": "code",
      "metadata": {
        "id": "-brT0DHBP_Pe",
        "colab_type": "code",
        "colab": {}
      },
      "source": [
        "regularizer_histories = {}\n",
        "regularizer_histories['Tiny'] = size_histories['Tiny']"
      ],
      "execution_count": 0,
      "outputs": []
    },
    {
      "cell_type": "markdown",
      "metadata": {
        "id": "S23XkipMQE-C",
        "colab_type": "text"
      },
      "source": [
        "Add Weight Regularization"
      ]
    },
    {
      "cell_type": "code",
      "metadata": {
        "id": "25W-sZz6QHbg",
        "colab_type": "code",
        "colab": {
          "base_uri": "https://localhost:8080/",
          "height": 510
        },
        "outputId": "ccae96c2-eacf-4fa6-a581-3dea4ea4fe0d"
      },
      "source": [
        "l2_model = tf.keras.Sequential([\n",
        "    layers.Dense(512, activation='elu',\n",
        "                 kernel_regularizer=regularizers.l2(0.001),\n",
        "                 input_shape=(FEATURES,)),\n",
        "    layers.Dense(512, activation='elu',\n",
        "                 kernel_regularizer=regularizers.l2(0.001)),\n",
        "    layers.Dense(512, activation='elu',\n",
        "                 kernel_regularizer=regularizers.l2(0.001)),\n",
        "    layers.Dense(512, activation='elu',\n",
        "                 kernel_regularizer=regularizers.l2(0.001)),\n",
        "    layers.Dense(1)\n",
        "])\n",
        "\n",
        "regularizer_histories['l2'] = compile_and_fit(l2_model, \"regularizers/l2\")"
      ],
      "execution_count": 43,
      "outputs": [
        {
          "output_type": "stream",
          "text": [
            "Model: \"sequential_4\"\n",
            "_________________________________________________________________\n",
            "Layer (type)                 Output Shape              Param #   \n",
            "=================================================================\n",
            "dense_14 (Dense)             (None, 512)               14848     \n",
            "_________________________________________________________________\n",
            "dense_15 (Dense)             (None, 512)               262656    \n",
            "_________________________________________________________________\n",
            "dense_16 (Dense)             (None, 512)               262656    \n",
            "_________________________________________________________________\n",
            "dense_17 (Dense)             (None, 512)               262656    \n",
            "_________________________________________________________________\n",
            "dense_18 (Dense)             (None, 1)                 513       \n",
            "=================================================================\n",
            "Total params: 803,329\n",
            "Trainable params: 803,329\n",
            "Non-trainable params: 0\n",
            "_________________________________________________________________\n",
            "\n",
            "Epoch: 0, accuracy:0.5071,  binary_crossentropy:0.7619,  loss:2.2593,  val_accuracy:0.5380,  val_binary_crossentropy:0.6773,  val_loss:2.0834,  \n",
            "....................................................................................................\n",
            "Epoch: 100, accuracy:0.6517,  binary_crossentropy:0.5995,  loss:0.6207,  val_accuracy:0.6160,  val_binary_crossentropy:0.5945,  val_loss:0.6159,  \n",
            "....................................................................................................\n",
            "Epoch: 200, accuracy:0.6732,  binary_crossentropy:0.5827,  loss:0.6058,  val_accuracy:0.6480,  val_binary_crossentropy:0.5803,  val_loss:0.6034,  \n",
            "....................................................................................................\n",
            "Epoch: 300, accuracy:0.6870,  binary_crossentropy:0.5721,  loss:0.5954,  val_accuracy:0.6620,  val_binary_crossentropy:0.5817,  val_loss:0.6048,  \n",
            "....................................................................................................\n",
            "Epoch: 400, accuracy:0.6920,  binary_crossentropy:0.5634,  loss:0.5871,  val_accuracy:0.6850,  val_binary_crossentropy:0.5806,  val_loss:0.6042,  \n",
            "......................................................................................."
          ],
          "name": "stdout"
        }
      ]
    },
    {
      "cell_type": "code",
      "metadata": {
        "id": "mkn39FioQMXC",
        "colab_type": "code",
        "colab": {
          "base_uri": "https://localhost:8080/",
          "height": 300
        },
        "outputId": "61f0fc7d-e0f1-45bf-ed85-a8a5f5c2e4f0"
      },
      "source": [
        "plotter.plot(regularizer_histories)\n",
        "plt.ylim([0.5, 0.7])"
      ],
      "execution_count": 44,
      "outputs": [
        {
          "output_type": "execute_result",
          "data": {
            "text/plain": [
              "(0.5, 0.7)"
            ]
          },
          "metadata": {
            "tags": []
          },
          "execution_count": 44
        },
        {
          "output_type": "display_data",
          "data": {
            "image/png": "[encoded data removed]",
            "text/plain": [
              "<Figure size 432x288 with 1 Axes>"
            ]
          },
          "metadata": {
            "tags": [],
            "needs_background": "light"
          }
        }
      ]
    },
    {
      "cell_type": "code",
      "metadata": {
        "id": "LbOjLB8KQQ5t",
        "colab_type": "code",
        "colab": {}
      },
      "source": [
        "result = l2_model(features)\n",
        "regularization_loss=tf.add_n(l2_model.losses)"
      ],
      "execution_count": 0,
      "outputs": []
    },
    {
      "cell_type": "markdown",
      "metadata": {
        "id": "HSnx74lEQRfW",
        "colab_type": "text"
      },
      "source": [
        "Add Dropout"
      ]
    },
    {
      "cell_type": "code",
      "metadata": {
        "id": "ehJ11S-hQSr-",
        "colab_type": "code",
        "colab": {
          "base_uri": "https://localhost:8080/",
          "height": 612
        },
        "outputId": "62d60485-6eee-490b-97f6-2777a198c50d"
      },
      "source": [
        "dropout_model = tf.keras.Sequential([\n",
        "    layers.Dense(512, activation='elu', input_shape=(FEATURES,)),\n",
        "    layers.Dropout(0.5),\n",
        "    layers.Dense(512, activation='elu'),\n",
        "    layers.Dropout(0.5),\n",
        "    layers.Dense(512, activation='elu'),\n",
        "    layers.Dropout(0.5),\n",
        "    layers.Dense(512, activation='elu'),\n",
        "    layers.Dropout(0.5),\n",
        "    layers.Dense(1)\n",
        "])\n",
        "\n",
        "regularizer_histories['dropout'] = compile_and_fit(dropout_model, \"regularizers/dropout\")"
      ],
      "execution_count": 46,
      "outputs": [
        {
          "output_type": "stream",
          "text": [
            "Model: \"sequential_5\"\n",
            "_________________________________________________________________\n",
            "Layer (type)                 Output Shape              Param #   \n",
            "=================================================================\n",
            "dense_19 (Dense)             (None, 512)               14848     \n",
            "_________________________________________________________________\n",
            "dropout (Dropout)            (None, 512)               0         \n",
            "_________________________________________________________________\n",
            "dense_20 (Dense)             (None, 512)               262656    \n",
            "_________________________________________________________________\n",
            "dropout_1 (Dropout)          (None, 512)               0         \n",
            "_________________________________________________________________\n",
            "dense_21 (Dense)             (None, 512)               262656    \n",
            "_________________________________________________________________\n",
            "dropout_2 (Dropout)          (None, 512)               0         \n",
            "_________________________________________________________________\n",
            "dense_22 (Dense)             (None, 512)               262656    \n",
            "_________________________________________________________________\n",
            "dropout_3 (Dropout)          (None, 512)               0         \n",
            "_________________________________________________________________\n",
            "dense_23 (Dense)             (None, 1)                 513       \n",
            "=================================================================\n",
            "Total params: 803,329\n",
            "Trainable params: 803,329\n",
            "Non-trainable params: 0\n",
            "_________________________________________________________________\n",
            "\n",
            "Epoch: 0, accuracy:0.5080,  binary_crossentropy:0.8012,  loss:0.8012,  val_accuracy:0.4950,  val_binary_crossentropy:0.6844,  val_loss:0.6844,  \n",
            "....................................................................................................\n",
            "Epoch: 100, accuracy:0.6477,  binary_crossentropy:0.5991,  loss:0.5991,  val_accuracy:0.6560,  val_binary_crossentropy:0.5813,  val_loss:0.5813,  \n",
            "....................................................................................................\n",
            "Epoch: 200, accuracy:0.6926,  binary_crossentropy:0.5610,  loss:0.5610,  val_accuracy:0.6790,  val_binary_crossentropy:0.5864,  val_loss:0.5864,  \n",
            "....................................................................................................\n",
            "Epoch: 300, accuracy:0.7184,  binary_crossentropy:0.5147,  loss:0.5147,  val_accuracy:0.7060,  val_binary_crossentropy:0.5869,  val_loss:0.5869,  \n",
            "..................................................................."
          ],
          "name": "stdout"
        }
      ]
    },
    {
      "cell_type": "code",
      "metadata": {
        "id": "SXiKa5A2QXgL",
        "colab_type": "code",
        "colab": {
          "base_uri": "https://localhost:8080/",
          "height": 300
        },
        "outputId": "84eb9765-e9dd-49c6-82f6-0a8d29f96792"
      },
      "source": [
        "plotter.plot(regularizer_histories)\n",
        "plt.ylim([0.5, 0.7])"
      ],
      "execution_count": 47,
      "outputs": [
        {
          "output_type": "execute_result",
          "data": {
            "text/plain": [
              "(0.5, 0.7)"
            ]
          },
          "metadata": {
            "tags": []
          },
          "execution_count": 47
        },
        {
          "output_type": "display_data",
          "data": {
            "image/png": "[encoded data removed]",
            "text/plain": [
              "<Figure size 432x288 with 1 Axes>"
            ]
          },
          "metadata": {
            "tags": [],
            "needs_background": "light"
          }
        }
      ]
    },
    {
      "cell_type": "markdown",
      "metadata": {
        "id": "riepEDvfQcFJ",
        "colab_type": "text"
      },
      "source": [
        "Combined L2_Dropout"
      ]
    },
    {
      "cell_type": "code",
      "metadata": {
        "id": "KGXBDaIWQeKK",
        "colab_type": "code",
        "colab": {
          "base_uri": "https://localhost:8080/",
          "height": 850
        },
        "outputId": "aaae57de-5327-4337-9293-a299ae7911e6"
      },
      "source": [
        "combined_model = tf.keras.Sequential([\n",
        "    layers.Dense(512, kernel_regularizer=regularizers.l2(0.0001),\n",
        "                 activation='elu', input_shape=(FEATURES,)),\n",
        "    layers.Dropout(0.5),\n",
        "    layers.Dense(512, kernel_regularizer=regularizers.l2(0.0001),\n",
        "                 activation='elu'),\n",
        "    layers.Dropout(0.5),\n",
        "    layers.Dense(512, kernel_regularizer=regularizers.l2(0.0001),\n",
        "                 activation='elu'),\n",
        "    layers.Dropout(0.5),\n",
        "    layers.Dense(512, kernel_regularizer=regularizers.l2(0.0001),\n",
        "                 activation='elu'),\n",
        "    layers.Dropout(0.5),\n",
        "    layers.Dense(1)\n",
        "])\n",
        "\n",
        "regularizer_histories['combined'] = compile_and_fit(combined_model, \"regularizers/combined\")"
      ],
      "execution_count": 48,
      "outputs": [
        {
          "output_type": "stream",
          "text": [
            "Model: \"sequential_6\"\n",
            "_________________________________________________________________\n",
            "Layer (type)                 Output Shape              Param #   \n",
            "=================================================================\n",
            "dense_24 (Dense)             (None, 512)               14848     \n",
            "_________________________________________________________________\n",
            "dropout_4 (Dropout)          (None, 512)               0         \n",
            "_________________________________________________________________\n",
            "dense_25 (Dense)             (None, 512)               262656    \n",
            "_________________________________________________________________\n",
            "dropout_5 (Dropout)          (None, 512)               0         \n",
            "_________________________________________________________________\n",
            "dense_26 (Dense)             (None, 512)               262656    \n",
            "_________________________________________________________________\n",
            "dropout_6 (Dropout)          (None, 512)               0         \n",
            "_________________________________________________________________\n",
            "dense_27 (Dense)             (None, 512)               262656    \n",
            "_________________________________________________________________\n",
            "dropout_7 (Dropout)          (None, 512)               0         \n",
            "_________________________________________________________________\n",
            "dense_28 (Dense)             (None, 1)                 513       \n",
            "=================================================================\n",
            "Total params: 803,329\n",
            "Trainable params: 803,329\n",
            "Non-trainable params: 0\n",
            "_________________________________________________________________\n",
            "\n",
            "Epoch: 0, accuracy:0.4997,  binary_crossentropy:0.8089,  loss:0.9672,  val_accuracy:0.4800,  val_binary_crossentropy:0.6746,  val_loss:0.8323,  \n",
            "....................................................................................................\n",
            "Epoch: 100, accuracy:0.6554,  binary_crossentropy:0.5998,  loss:0.6305,  val_accuracy:0.6200,  val_binary_crossentropy:0.5886,  val_loss:0.6191,  \n",
            "....................................................................................................\n",
            "Epoch: 200, accuracy:0.6606,  binary_crossentropy:0.5875,  loss:0.6134,  val_accuracy:0.6920,  val_binary_crossentropy:0.5694,  val_loss:0.5954,  \n",
            "....................................................................................................\n",
            "Epoch: 300, accuracy:0.6702,  binary_crossentropy:0.5813,  loss:0.6097,  val_accuracy:0.6780,  val_binary_crossentropy:0.5624,  val_loss:0.5908,  \n",
            "....................................................................................................\n",
            "Epoch: 400, accuracy:0.6776,  binary_crossentropy:0.5756,  loss:0.6055,  val_accuracy:0.6840,  val_binary_crossentropy:0.5662,  val_loss:0.5961,  \n",
            "....................................................................................................\n",
            "Epoch: 500, accuracy:0.6777,  binary_crossentropy:0.5722,  loss:0.6041,  val_accuracy:0.6980,  val_binary_crossentropy:0.5510,  val_loss:0.5830,  \n",
            "....................................................................................................\n",
            "Epoch: 600, accuracy:0.6899,  binary_crossentropy:0.5673,  loss:0.6008,  val_accuracy:0.6930,  val_binary_crossentropy:0.5482,  val_loss:0.5816,  \n",
            "....................................................................................................\n",
            "Epoch: 700, accuracy:0.6839,  binary_crossentropy:0.5634,  loss:0.5983,  val_accuracy:0.6790,  val_binary_crossentropy:0.5454,  val_loss:0.5804,  \n",
            "....................................................................................................\n",
            "Epoch: 800, accuracy:0.6949,  binary_crossentropy:0.5586,  loss:0.5949,  val_accuracy:0.6860,  val_binary_crossentropy:0.5479,  val_loss:0.5843,  \n",
            "....................................................................................................\n",
            "Epoch: 900, accuracy:0.6945,  binary_crossentropy:0.5553,  loss:0.5931,  val_accuracy:0.7080,  val_binary_crossentropy:0.5428,  val_loss:0.5807,  \n",
            "....................................................................................................\n",
            "Epoch: 1000, accuracy:0.7004,  binary_crossentropy:0.5535,  loss:0.5924,  val_accuracy:0.6980,  val_binary_crossentropy:0.5429,  val_loss:0.5818,  \n",
            "...................................................."
          ],
          "name": "stdout"
        }
      ]
    },
    {
      "cell_type": "code",
      "metadata": {
        "id": "mJc8k1UmQy0K",
        "colab_type": "code",
        "colab": {
          "base_uri": "https://localhost:8080/",
          "height": 300
        },
        "outputId": "30b91b70-9e93-42ff-af31-197428c812af"
      },
      "source": [
        "plotter.plot(regularizer_histories)\n",
        "plt.ylim([0.5, 0.7])"
      ],
      "execution_count": 49,
      "outputs": [
        {
          "output_type": "execute_result",
          "data": {
            "text/plain": [
              "(0.5, 0.7)"
            ]
          },
          "metadata": {
            "tags": []
          },
          "execution_count": 49
        },
        {
          "output_type": "display_data",
          "data": {
            "image/png": "[encoded data removed]",
            "text/plain": [
              "<Figure size 432x288 with 1 Axes>"
            ]
          },
          "metadata": {
            "tags": [],
            "needs_background": "light"
          }
        }
      ]
    },
    {
      "cell_type": "markdown",
      "metadata": {
        "id": "zvBR3FxWQ1nV",
        "colab_type": "text"
      },
      "source": [
        "View in TensorBoard"
      ]
    },
    {
      "cell_type": "code",
      "metadata": {
        "id": "u9XqV_uzQ4eB",
        "colab_type": "code",
        "colab": {
          "base_uri": "https://localhost:8080/",
          "height": 821
        },
        "outputId": "d54b8df1-a582-438f-cdbc-d3f958c0dc5e"
      },
      "source": [
        "display.IFrame(\n",
        "    src=\"https://tensorboard.dev/experiment/fGInKDo8TXes1z7HQku9mw/#scalars&_smoothingWeight=0.97\",\n",
        "    width = \"100%\",\n",
        "    height=\"800px\")\n",
        "\n",
        "\n"
      ],
      "execution_count": 50,
      "outputs": [
        {
          "output_type": "execute_result",
          "data": {
            "text/html": [
              "\n",
              "        <iframe\n",
              "            width=\"100%\"\n",
              "            height=\"800px\"\n",
              "            src=\"https://tensorboard.dev/experiment/fGInKDo8TXes1z7HQku9mw/#scalars&_smoothingWeight=0.97\"\n",
              "            frameborder=\"0\"\n",
              "            allowfullscreen\n",
              "        ></iframe>\n",
              "        "
            ],
            "text/plain": [
              "<IPython.lib.display.IFrame at 0x7f838b375358>"
            ]
          },
          "metadata": {
            "tags": []
          },
          "execution_count": 50
        }
      ]
    }
  ]
}