{
  "nbformat": 4,
  "nbformat_minor": 0,
  "metadata": {
    "colab": {
      "name": "save_load_assignment5.ipynb",
      "provenance": []
    },
    "kernelspec": {
      "name": "python3",
      "display_name": "Python 3"
    }
  },
  "cells": [
    {
      "cell_type": "code",
      "metadata": {
        "id": "4NuVowMvTEDu",
        "colab_type": "code",
        "colab": {}
      },
      "source": [
        "import os\n",
        "\n",
        "import tensorflow as tf\n",
        "from tensorflow import keras"
      ],
      "execution_count": 0,
      "outputs": []
    },
    {
      "cell_type": "markdown",
      "metadata": {
        "id": "QMnwq0nfUmtl",
        "colab_type": "text"
      },
      "source": [
        "Load Dataset"
      ]
    },
    {
      "cell_type": "code",
      "metadata": {
        "id": "4qA01m1UUnoH",
        "colab_type": "code",
        "colab": {
          "base_uri": "https://localhost:8080/",
          "height": 51
        },
        "outputId": "f85d2c75-5460-4287-f12c-af432c7d49fa"
      },
      "source": [
        "(train_images, train_labels), (test_images, test_labels) = tf.keras.datasets.mnist.load_data()\n",
        "\n",
        "train_labels = train_labels[:1000]\n",
        "test_labels = test_labels[:1000]\n",
        "\n",
        "train_images = train_images[:1000].reshape(-1, 28 * 28) / 255.0\n",
        "test_images = test_images[:1000].reshape(-1, 28 * 28) / 255.0"
      ],
      "execution_count": 2,
      "outputs": [
        {
          "output_type": "stream",
          "text": [
            "Downloading data from https://storage.googleapis.com/tensorflow/tf-keras-datasets/mnist.npz\n",
            "11493376/11490434 [==============================] - 0s 0us/step\n"
          ],
          "name": "stdout"
        }
      ]
    },
    {
      "cell_type": "markdown",
      "metadata": {
        "id": "cPqIavUWUu1d",
        "colab_type": "text"
      },
      "source": [
        "Define a Model"
      ]
    },
    {
      "cell_type": "code",
      "metadata": {
        "id": "dQz21GjnUxLr",
        "colab_type": "code",
        "colab": {
          "base_uri": "https://localhost:8080/",
          "height": 255
        },
        "outputId": "f87e9b2c-2d82-487e-8c88-43b0304adc74"
      },
      "source": [
        "# Define a simple sequential model\n",
        "def create_model():\n",
        "  model = tf.keras.models.Sequential([\n",
        "    keras.layers.Dense(512, activation='relu', input_shape=(784,)),\n",
        "    keras.layers.Dropout(0.2),\n",
        "    keras.layers.Dense(10)\n",
        "  ])\n",
        "\n",
        "  model.compile(optimizer='adam',\n",
        "                loss=tf.losses.SparseCategoricalCrossentropy(from_logits=True),\n",
        "                metrics=['accuracy'])\n",
        "\n",
        "  return model\n",
        "\n",
        "# Create a basic model instance\n",
        "model = create_model()\n",
        "\n",
        "# Display the model's architecture\n",
        "model.summary()"
      ],
      "execution_count": 3,
      "outputs": [
        {
          "output_type": "stream",
          "text": [
            "Model: \"sequential\"\n",
            "_________________________________________________________________\n",
            "Layer (type)                 Output Shape              Param #   \n",
            "=================================================================\n",
            "dense (Dense)                (None, 512)               401920    \n",
            "_________________________________________________________________\n",
            "dropout (Dropout)            (None, 512)               0         \n",
            "_________________________________________________________________\n",
            "dense_1 (Dense)              (None, 10)                5130      \n",
            "=================================================================\n",
            "Total params: 407,050\n",
            "Trainable params: 407,050\n",
            "Non-trainable params: 0\n",
            "_________________________________________________________________\n"
          ],
          "name": "stdout"
        }
      ]
    },
    {
      "cell_type": "markdown",
      "metadata": {
        "id": "bssT2wE0VM6S",
        "colab_type": "text"
      },
      "source": [
        "Save checkpoints during training"
      ]
    },
    {
      "cell_type": "code",
      "metadata": {
        "id": "0if_P8ELU2FQ",
        "colab_type": "code",
        "colab": {
          "base_uri": "https://localhost:8080/",
          "height": 714
        },
        "outputId": "67ffa8d4-9f25-440a-ae6d-45c046936f3c"
      },
      "source": [
        "checkpoint_path = \"training_1/cp.ckpt\"\n",
        "checkpoint_dir = os.path.dirname(checkpoint_path)\n",
        "\n",
        "# Create a callback that saves the model's weights\n",
        "cp_callback = tf.keras.callbacks.ModelCheckpoint(filepath=checkpoint_path,\n",
        "                                                 save_weights_only=True,\n",
        "                                                 verbose=1)\n",
        "\n",
        "# Train the model with the new callback\n",
        "model.fit(train_images, \n",
        "          train_labels,  \n",
        "          epochs=10,\n",
        "          validation_data=(test_images,test_labels),\n",
        "          callbacks=[cp_callback])  # Pass callback to training\n",
        "\n",
        "# This may generate warnings related to saving the state of the optimizer.\n",
        "# These warnings (and similar warnings throughout this notebook)\n",
        "# are in place to discourage outdated usage, and can be ignored."
      ],
      "execution_count": 4,
      "outputs": [
        {
          "output_type": "stream",
          "text": [
            "Epoch 1/10\n",
            "29/32 [==========================>...] - ETA: 0s - loss: 1.1797 - accuracy: 0.6886\n",
            "Epoch 00001: saving model to training_1/cp.ckpt\n",
            "32/32 [==============================] - 0s 12ms/step - loss: 1.1192 - accuracy: 0.7000 - val_loss: 0.7115 - val_accuracy: 0.7880\n",
            "Epoch 2/10\n",
            "28/32 [=========================>....] - ETA: 0s - loss: 0.4390 - accuracy: 0.8728\n",
            "Epoch 00002: saving model to training_1/cp.ckpt\n",
            "32/32 [==============================] - 0s 7ms/step - loss: 0.4302 - accuracy: 0.8760 - val_loss: 0.5347 - val_accuracy: 0.8380\n",
            "Epoch 3/10\n",
            "29/32 [==========================>...] - ETA: 0s - loss: 0.2841 - accuracy: 0.9310\n",
            "Epoch 00003: saving model to training_1/cp.ckpt\n",
            "32/32 [==============================] - 0s 7ms/step - loss: 0.2818 - accuracy: 0.9300 - val_loss: 0.4856 - val_accuracy: 0.8420\n",
            "Epoch 4/10\n",
            "29/32 [==========================>...] - ETA: 0s - loss: 0.2076 - accuracy: 0.9547\n",
            "Epoch 00004: saving model to training_1/cp.ckpt\n",
            "32/32 [==============================] - 0s 7ms/step - loss: 0.2134 - accuracy: 0.9540 - val_loss: 0.4504 - val_accuracy: 0.8560\n",
            "Epoch 5/10\n",
            "26/32 [=======================>......] - ETA: 0s - loss: 0.1494 - accuracy: 0.9700\n",
            "Epoch 00005: saving model to training_1/cp.ckpt\n",
            "32/32 [==============================] - 0s 7ms/step - loss: 0.1478 - accuracy: 0.9690 - val_loss: 0.4378 - val_accuracy: 0.8570\n",
            "Epoch 6/10\n",
            "29/32 [==========================>...] - ETA: 0s - loss: 0.1079 - accuracy: 0.9817\n",
            "Epoch 00006: saving model to training_1/cp.ckpt\n",
            "32/32 [==============================] - 0s 7ms/step - loss: 0.1132 - accuracy: 0.9800 - val_loss: 0.4409 - val_accuracy: 0.8550\n",
            "Epoch 7/10\n",
            "25/32 [======================>.......] - ETA: 0s - loss: 0.0906 - accuracy: 0.9900\n",
            "Epoch 00007: saving model to training_1/cp.ckpt\n",
            "32/32 [==============================] - 0s 7ms/step - loss: 0.0886 - accuracy: 0.9870 - val_loss: 0.4392 - val_accuracy: 0.8580\n",
            "Epoch 8/10\n",
            "28/32 [=========================>....] - ETA: 0s - loss: 0.0631 - accuracy: 0.9933\n",
            "Epoch 00008: saving model to training_1/cp.ckpt\n",
            "32/32 [==============================] - 0s 7ms/step - loss: 0.0619 - accuracy: 0.9940 - val_loss: 0.4260 - val_accuracy: 0.8640\n",
            "Epoch 9/10\n",
            "29/32 [==========================>...] - ETA: 0s - loss: 0.0499 - accuracy: 0.9978\n",
            "Epoch 00009: saving model to training_1/cp.ckpt\n",
            "32/32 [==============================] - 0s 7ms/step - loss: 0.0503 - accuracy: 0.9970 - val_loss: 0.4166 - val_accuracy: 0.8630\n",
            "Epoch 10/10\n",
            "28/32 [=========================>....] - ETA: 0s - loss: 0.0386 - accuracy: 0.9978\n",
            "Epoch 00010: saving model to training_1/cp.ckpt\n",
            "32/32 [==============================] - 0s 7ms/step - loss: 0.0391 - accuracy: 0.9980 - val_loss: 0.4393 - val_accuracy: 0.8600\n"
          ],
          "name": "stdout"
        },
        {
          "output_type": "execute_result",
          "data": {
            "text/plain": [
              "<tensorflow.python.keras.callbacks.History at 0x7ff4a3e2c780>"
            ]
          },
          "metadata": {
            "tags": []
          },
          "execution_count": 4
        }
      ]
    },
    {
      "cell_type": "code",
      "metadata": {
        "id": "ygNjmxqhVZkD",
        "colab_type": "code",
        "colab": {
          "base_uri": "https://localhost:8080/",
          "height": 34
        },
        "outputId": "bdb62050-50c6-4083-d5f3-0d2d2f4e4135"
      },
      "source": [
        "ls {checkpoint_dir}"
      ],
      "execution_count": 5,
      "outputs": [
        {
          "output_type": "stream",
          "text": [
            "checkpoint  cp.ckpt.data-00000-of-00001  cp.ckpt.index\n"
          ],
          "name": "stdout"
        }
      ]
    },
    {
      "cell_type": "code",
      "metadata": {
        "id": "o3tO6_HoVewt",
        "colab_type": "code",
        "colab": {
          "base_uri": "https://localhost:8080/",
          "height": 51
        },
        "outputId": "897a6f9f-8d92-4a29-89e5-60c9b140174c"
      },
      "source": [
        "# Create a basic model instance\n",
        "model = create_model()\n",
        "\n",
        "# Evaluate the model\n",
        "loss, acc = model.evaluate(test_images,  test_labels, verbose=2)\n",
        "print(\"Untrained model, accuracy: {:5.2f}%\".format(100*acc))"
      ],
      "execution_count": 6,
      "outputs": [
        {
          "output_type": "stream",
          "text": [
            "32/32 - 0s - loss: 2.3538 - accuracy: 0.0720\n",
            "Untrained model, accuracy:  7.20%\n"
          ],
          "name": "stdout"
        }
      ]
    },
    {
      "cell_type": "markdown",
      "metadata": {
        "id": "HloDbxG7VnHk",
        "colab_type": "text"
      },
      "source": [
        "Load the weights from the checkpoint and re-evaluate:"
      ]
    },
    {
      "cell_type": "code",
      "metadata": {
        "id": "DURFkN0qVo3g",
        "colab_type": "code",
        "colab": {
          "base_uri": "https://localhost:8080/",
          "height": 51
        },
        "outputId": "4e832ad0-6688-46df-a798-e86e76385d78"
      },
      "source": [
        "# Loads the weights\n",
        "model.load_weights(checkpoint_path)\n",
        "\n",
        "# Re-evaluate the model\n",
        "loss,acc = model.evaluate(test_images,  test_labels, verbose=2)\n",
        "print(\"Restored model, accuracy: {:5.2f}%\".format(100*acc))"
      ],
      "execution_count": 7,
      "outputs": [
        {
          "output_type": "stream",
          "text": [
            "32/32 - 0s - loss: 0.4393 - accuracy: 0.8600\n",
            "Restored model, accuracy: 86.00%\n"
          ],
          "name": "stdout"
        }
      ]
    },
    {
      "cell_type": "markdown",
      "metadata": {
        "id": "sbSTx_qpVwPK",
        "colab_type": "text"
      },
      "source": [
        "Train a new model, and save uniquely named checkpoints once every five epochs:"
      ]
    },
    {
      "cell_type": "code",
      "metadata": {
        "id": "CmQF4J_aVwtP",
        "colab_type": "code",
        "colab": {
          "base_uri": "https://localhost:8080/",
          "height": 391
        },
        "outputId": "9d953d7c-e8b3-4d16-f2c7-97c95310850c"
      },
      "source": [
        "# Include the epoch in the file name (uses `str.format`)\n",
        "checkpoint_path = \"training_2/cp-{epoch:04d}.ckpt\"\n",
        "checkpoint_dir = os.path.dirname(checkpoint_path)\n",
        "\n",
        "# Create a callback that saves the model's weights every 5 epochs\n",
        "cp_callback = tf.keras.callbacks.ModelCheckpoint(\n",
        "    filepath=checkpoint_path, \n",
        "    verbose=1, \n",
        "    save_weights_only=True,\n",
        "    period=5)\n",
        "\n",
        "# Create a new model instance\n",
        "model = create_model()\n",
        "\n",
        "# Save the weights using the `checkpoint_path` format\n",
        "model.save_weights(checkpoint_path.format(epoch=0))\n",
        "\n",
        "# Train the model with the new callback\n",
        "model.fit(train_images, \n",
        "          train_labels,\n",
        "          epochs=50, \n",
        "          callbacks=[cp_callback],\n",
        "          validation_data=(test_images,test_labels),\n",
        "          verbose=0)"
      ],
      "execution_count": 8,
      "outputs": [
        {
          "output_type": "stream",
          "text": [
            "WARNING:tensorflow:`period` argument is deprecated. Please use `save_freq` to specify the frequency in number of batches seen.\n",
            "\n",
            "Epoch 00005: saving model to training_2/cp-0005.ckpt\n",
            "\n",
            "Epoch 00010: saving model to training_2/cp-0010.ckpt\n",
            "\n",
            "Epoch 00015: saving model to training_2/cp-0015.ckpt\n",
            "\n",
            "Epoch 00020: saving model to training_2/cp-0020.ckpt\n",
            "\n",
            "Epoch 00025: saving model to training_2/cp-0025.ckpt\n",
            "\n",
            "Epoch 00030: saving model to training_2/cp-0030.ckpt\n",
            "\n",
            "Epoch 00035: saving model to training_2/cp-0035.ckpt\n",
            "\n",
            "Epoch 00040: saving model to training_2/cp-0040.ckpt\n",
            "\n",
            "Epoch 00045: saving model to training_2/cp-0045.ckpt\n",
            "\n",
            "Epoch 00050: saving model to training_2/cp-0050.ckpt\n"
          ],
          "name": "stdout"
        },
        {
          "output_type": "execute_result",
          "data": {
            "text/plain": [
              "<tensorflow.python.keras.callbacks.History at 0x7ff4a0345e80>"
            ]
          },
          "metadata": {
            "tags": []
          },
          "execution_count": 8
        }
      ]
    },
    {
      "cell_type": "code",
      "metadata": {
        "id": "hcUf_v52Wdop",
        "colab_type": "code",
        "colab": {
          "base_uri": "https://localhost:8080/",
          "height": 221
        },
        "outputId": "912b6e8b-6da2-467b-9daa-48d089d94051"
      },
      "source": [
        "ls {checkpoint_dir}"
      ],
      "execution_count": 9,
      "outputs": [
        {
          "output_type": "stream",
          "text": [
            "checkpoint                        cp-0025.ckpt.index\n",
            "cp-0000.ckpt.data-00000-of-00001  cp-0030.ckpt.data-00000-of-00001\n",
            "cp-0000.ckpt.index                cp-0030.ckpt.index\n",
            "cp-0005.ckpt.data-00000-of-00001  cp-0035.ckpt.data-00000-of-00001\n",
            "cp-0005.ckpt.index                cp-0035.ckpt.index\n",
            "cp-0010.ckpt.data-00000-of-00001  cp-0040.ckpt.data-00000-of-00001\n",
            "cp-0010.ckpt.index                cp-0040.ckpt.index\n",
            "cp-0015.ckpt.data-00000-of-00001  cp-0045.ckpt.data-00000-of-00001\n",
            "cp-0015.ckpt.index                cp-0045.ckpt.index\n",
            "cp-0020.ckpt.data-00000-of-00001  cp-0050.ckpt.data-00000-of-00001\n",
            "cp-0020.ckpt.index                cp-0050.ckpt.index\n",
            "cp-0025.ckpt.data-00000-of-00001\n"
          ],
          "name": "stdout"
        }
      ]
    },
    {
      "cell_type": "code",
      "metadata": {
        "id": "Hn7RAL5DWhsL",
        "colab_type": "code",
        "colab": {
          "base_uri": "https://localhost:8080/",
          "height": 34
        },
        "outputId": "50c6ed92-2d24-4048-8de8-4395ca8e428d"
      },
      "source": [
        "latest = tf.train.latest_checkpoint(checkpoint_dir)\n",
        "latest"
      ],
      "execution_count": 10,
      "outputs": [
        {
          "output_type": "execute_result",
          "data": {
            "text/plain": [
              "'training_2/cp-0050.ckpt'"
            ]
          },
          "metadata": {
            "tags": []
          },
          "execution_count": 10
        }
      ]
    },
    {
      "cell_type": "markdown",
      "metadata": {
        "id": "AEBzcogQWk3G",
        "colab_type": "text"
      },
      "source": [
        "To test, reset the model and load the latest checkpoint:"
      ]
    },
    {
      "cell_type": "code",
      "metadata": {
        "id": "Rts49SB4WlZb",
        "colab_type": "code",
        "colab": {
          "base_uri": "https://localhost:8080/",
          "height": 51
        },
        "outputId": "98fad1f6-0738-489c-e326-af24dcc90e77"
      },
      "source": [
        "# Create a new model instance\n",
        "model = create_model()\n",
        "\n",
        "# Load the previously saved weights\n",
        "model.load_weights(latest)\n",
        "\n",
        "# Re-evaluate the model\n",
        "loss, acc = model.evaluate(test_images,  test_labels, verbose=2)\n",
        "print(\"Restored model, accuracy: {:5.2f}%\".format(100*acc))"
      ],
      "execution_count": 11,
      "outputs": [
        {
          "output_type": "stream",
          "text": [
            "32/32 - 0s - loss: 0.4786 - accuracy: 0.8830\n",
            "Restored model, accuracy: 88.30%\n"
          ],
          "name": "stdout"
        }
      ]
    },
    {
      "cell_type": "markdown",
      "metadata": {
        "id": "wEGVz0Z4WrGQ",
        "colab_type": "text"
      },
      "source": [
        "Manually save Weights"
      ]
    },
    {
      "cell_type": "code",
      "metadata": {
        "id": "NZ_5t9TqWswn",
        "colab_type": "code",
        "colab": {
          "base_uri": "https://localhost:8080/",
          "height": 51
        },
        "outputId": "b97398a3-fff9-4591-ddc8-27ac0adad697"
      },
      "source": [
        "# Save the weights\n",
        "model.save_weights('./checkpoints/my_checkpoint')\n",
        "\n",
        "# Create a new model instance\n",
        "model = create_model()\n",
        "\n",
        "# Restore the weights\n",
        "model.load_weights('./checkpoints/my_checkpoint')\n",
        "\n",
        "# Evaluate the model\n",
        "loss,acc = model.evaluate(test_images,  test_labels, verbose=2)\n",
        "print(\"Restored model, accuracy: {:5.2f}%\".format(100*acc))"
      ],
      "execution_count": 12,
      "outputs": [
        {
          "output_type": "stream",
          "text": [
            "32/32 - 0s - loss: 0.4786 - accuracy: 0.8830\n",
            "Restored model, accuracy: 88.30%\n"
          ],
          "name": "stdout"
        }
      ]
    },
    {
      "cell_type": "code",
      "metadata": {
        "id": "MuoU4N4uW14y",
        "colab_type": "code",
        "colab": {}
      },
      "source": [
        "Save the entire Model"
      ],
      "execution_count": 0,
      "outputs": []
    },
    {
      "cell_type": "code",
      "metadata": {
        "id": "lraUwo1mW4Ro",
        "colab_type": "code",
        "colab": {
          "base_uri": "https://localhost:8080/",
          "height": 275
        },
        "outputId": "f4396872-883b-49ea-f20a-6d83a8041f20"
      },
      "source": [
        "# Create and train a new model instance.\n",
        "model = create_model()\n",
        "model.fit(train_images, train_labels, epochs=5)\n",
        "\n",
        "# Save the entire model as a SavedModel.\n",
        "!mkdir -p saved_model\n",
        "model.save('saved_model/my_model') "
      ],
      "execution_count": 13,
      "outputs": [
        {
          "output_type": "stream",
          "text": [
            "Epoch 1/5\n",
            "32/32 [==============================] - 0s 4ms/step - loss: 1.2136 - accuracy: 0.6280\n",
            "Epoch 2/5\n",
            "32/32 [==============================] - 0s 4ms/step - loss: 0.4290 - accuracy: 0.8760\n",
            "Epoch 3/5\n",
            "32/32 [==============================] - 0s 4ms/step - loss: 0.2832 - accuracy: 0.9350\n",
            "Epoch 4/5\n",
            "32/32 [==============================] - 0s 4ms/step - loss: 0.1953 - accuracy: 0.9550\n",
            "Epoch 5/5\n",
            "32/32 [==============================] - 0s 3ms/step - loss: 0.1607 - accuracy: 0.9600\n",
            "WARNING:tensorflow:From /usr/local/lib/python3.6/dist-packages/tensorflow/python/ops/resource_variable_ops.py:1817: calling BaseResourceVariable.__init__ (from tensorflow.python.ops.resource_variable_ops) with constraint is deprecated and will be removed in a future version.\n",
            "Instructions for updating:\n",
            "If using Keras pass *_constraint arguments to layers.\n",
            "INFO:tensorflow:Assets written to: saved_model/my_model/assets\n"
          ],
          "name": "stdout"
        }
      ]
    },
    {
      "cell_type": "markdown",
      "metadata": {
        "id": "P09PRtNOXA0t",
        "colab_type": "text"
      },
      "source": [
        "Inspect the saved model directory"
      ]
    },
    {
      "cell_type": "code",
      "metadata": {
        "id": "KKjRQ-C6XDQA",
        "colab_type": "code",
        "colab": {
          "base_uri": "https://localhost:8080/",
          "height": 51
        },
        "outputId": "9832ab16-bf8e-4ecd-8a3b-9deb23f4020b"
      },
      "source": [
        "# my_model directory\n",
        "!ls saved_model\n",
        "\n",
        "# Contains an assets folder, saved_model.pb, and variables folder.\n",
        "!ls saved_model/my_model"
      ],
      "execution_count": 14,
      "outputs": [
        {
          "output_type": "stream",
          "text": [
            "my_model\n",
            "assets\tsaved_model.pb\tvariables\n"
          ],
          "name": "stdout"
        }
      ]
    },
    {
      "cell_type": "markdown",
      "metadata": {
        "id": "dKMprSakXGqb",
        "colab_type": "text"
      },
      "source": [
        "Reload a fresh Keras model from the saved model:"
      ]
    },
    {
      "cell_type": "code",
      "metadata": {
        "id": "thxWGCSUXHLf",
        "colab_type": "code",
        "colab": {
          "base_uri": "https://localhost:8080/",
          "height": 479
        },
        "outputId": "c7793e8c-b82d-4f7a-9b66-a6abc587d767"
      },
      "source": [
        "new_model = tf.keras.models.load_model('saved_model/my_model')\n",
        "\n",
        "# Check its architecture\n",
        "new_model.summary()"
      ],
      "execution_count": 15,
      "outputs": [
        {
          "output_type": "stream",
          "text": [
            "WARNING:tensorflow:Unresolved object in checkpoint: (root).optimizer.iter\n",
            "WARNING:tensorflow:Unresolved object in checkpoint: (root).optimizer.beta_1\n",
            "WARNING:tensorflow:Unresolved object in checkpoint: (root).optimizer.beta_2\n",
            "WARNING:tensorflow:Unresolved object in checkpoint: (root).optimizer.decay\n",
            "WARNING:tensorflow:Unresolved object in checkpoint: (root).optimizer.learning_rate\n",
            "WARNING:tensorflow:A checkpoint was restored (e.g. tf.train.Checkpoint.restore or tf.keras.Model.load_weights) but not all checkpointed values were used. See above for specific issues. Use expect_partial() on the load status object, e.g. tf.train.Checkpoint.restore(...).expect_partial(), to silence these warnings, or use assert_consumed() to make the check explicit. See https://www.tensorflow.org/guide/checkpoint#loading_mechanics for details.\n",
            "WARNING:tensorflow:Unresolved object in checkpoint: (root).optimizer.iter\n",
            "WARNING:tensorflow:Unresolved object in checkpoint: (root).optimizer.beta_1\n",
            "WARNING:tensorflow:Unresolved object in checkpoint: (root).optimizer.beta_2\n",
            "WARNING:tensorflow:Unresolved object in checkpoint: (root).optimizer.decay\n",
            "WARNING:tensorflow:Unresolved object in checkpoint: (root).optimizer.learning_rate\n",
            "WARNING:tensorflow:A checkpoint was restored (e.g. tf.train.Checkpoint.restore or tf.keras.Model.load_weights) but not all checkpointed values were used. See above for specific issues. Use expect_partial() on the load status object, e.g. tf.train.Checkpoint.restore(...).expect_partial(), to silence these warnings, or use assert_consumed() to make the check explicit. See https://www.tensorflow.org/guide/checkpoint#loading_mechanics for details.\n",
            "Model: \"sequential_5\"\n",
            "_________________________________________________________________\n",
            "Layer (type)                 Output Shape              Param #   \n",
            "=================================================================\n",
            "dense_10 (Dense)             (None, 512)               401920    \n",
            "_________________________________________________________________\n",
            "dropout_5 (Dropout)          (None, 512)               0         \n",
            "_________________________________________________________________\n",
            "dense_11 (Dense)             (None, 10)                5130      \n",
            "=================================================================\n",
            "Total params: 407,050\n",
            "Trainable params: 407,050\n",
            "Non-trainable params: 0\n",
            "_________________________________________________________________\n"
          ],
          "name": "stdout"
        }
      ]
    },
    {
      "cell_type": "code",
      "metadata": {
        "id": "tEOlUF1iXMwA",
        "colab_type": "code",
        "colab": {
          "base_uri": "https://localhost:8080/",
          "height": 68
        },
        "outputId": "96898f79-b330-4428-c516-f0da597c3d52"
      },
      "source": [
        "# Evaluate the restored model\n",
        "loss, acc = new_model.evaluate(test_images,  test_labels, verbose=2)\n",
        "print('Restored model, accuracy: {:5.2f}%'.format(100*acc))\n",
        "\n",
        "print(new_model.predict(test_images).shape)"
      ],
      "execution_count": 16,
      "outputs": [
        {
          "output_type": "stream",
          "text": [
            "32/32 - 0s - loss: 0.4546 - accuracy: 0.8550\n",
            "Restored model, accuracy: 85.50%\n",
            "(1000, 10)\n"
          ],
          "name": "stdout"
        }
      ]
    },
    {
      "cell_type": "markdown",
      "metadata": {
        "id": "nCBMktvkXR7N",
        "colab_type": "text"
      },
      "source": [
        "HDF5 format"
      ]
    },
    {
      "cell_type": "code",
      "metadata": {
        "id": "us2_vCaJXSVe",
        "colab_type": "code",
        "colab": {
          "base_uri": "https://localhost:8080/",
          "height": 187
        },
        "outputId": "9d531e6e-014b-45ad-d6e2-d7b0e69569cc"
      },
      "source": [
        "# Create and train a new model instance.\n",
        "model = create_model()\n",
        "model.fit(train_images, train_labels, epochs=5)\n",
        "\n",
        "# Save the entire model to a HDF5 file.\n",
        "# The '.h5' extension indicates that the model should be saved to HDF5.\n",
        "model.save('my_model.h5') "
      ],
      "execution_count": 17,
      "outputs": [
        {
          "output_type": "stream",
          "text": [
            "Epoch 1/5\n",
            "32/32 [==============================] - 0s 4ms/step - loss: 1.1407 - accuracy: 0.6650\n",
            "Epoch 2/5\n",
            "32/32 [==============================] - 0s 4ms/step - loss: 0.4363 - accuracy: 0.8840\n",
            "Epoch 3/5\n",
            "32/32 [==============================] - 0s 4ms/step - loss: 0.2921 - accuracy: 0.9200\n",
            "Epoch 4/5\n",
            "32/32 [==============================] - 0s 4ms/step - loss: 0.2101 - accuracy: 0.9480\n",
            "Epoch 5/5\n",
            "32/32 [==============================] - 0s 4ms/step - loss: 0.1568 - accuracy: 0.9680\n"
          ],
          "name": "stdout"
        }
      ]
    },
    {
      "cell_type": "code",
      "metadata": {
        "id": "Qx9p40PpXXtl",
        "colab_type": "code",
        "colab": {
          "base_uri": "https://localhost:8080/",
          "height": 255
        },
        "outputId": "84d37217-a83f-4d6f-eca7-4b2a62d289e4"
      },
      "source": [
        "# Recreate the exact same model, including its weights and the optimizer\n",
        "new_model = tf.keras.models.load_model('my_model.h5')\n",
        "\n",
        "# Show the model architecture\n",
        "new_model.summary()"
      ],
      "execution_count": 18,
      "outputs": [
        {
          "output_type": "stream",
          "text": [
            "Model: \"sequential_6\"\n",
            "_________________________________________________________________\n",
            "Layer (type)                 Output Shape              Param #   \n",
            "=================================================================\n",
            "dense_12 (Dense)             (None, 512)               401920    \n",
            "_________________________________________________________________\n",
            "dropout_6 (Dropout)          (None, 512)               0         \n",
            "_________________________________________________________________\n",
            "dense_13 (Dense)             (None, 10)                5130      \n",
            "=================================================================\n",
            "Total params: 407,050\n",
            "Trainable params: 407,050\n",
            "Non-trainable params: 0\n",
            "_________________________________________________________________\n"
          ],
          "name": "stdout"
        }
      ]
    },
    {
      "cell_type": "markdown",
      "metadata": {
        "id": "9S0YI24pXbOG",
        "colab_type": "text"
      },
      "source": [
        "Check its accuracy"
      ]
    },
    {
      "cell_type": "code",
      "metadata": {
        "id": "lqA5QrJFXca0",
        "colab_type": "code",
        "colab": {
          "base_uri": "https://localhost:8080/",
          "height": 51
        },
        "outputId": "d70978c9-6420-4540-db1f-bcd66b07d0b1"
      },
      "source": [
        "loss, acc = new_model.evaluate(test_images,  test_labels, verbose=2)\n",
        "print('Restored model, accuracy: {:5.2f}%'.format(100*acc))"
      ],
      "execution_count": 19,
      "outputs": [
        {
          "output_type": "stream",
          "text": [
            "32/32 - 0s - loss: 0.4398 - accuracy: 0.8620\n",
            "Restored model, accuracy: 86.20%\n"
          ],
          "name": "stdout"
        }
      ]
    }
  ]
}